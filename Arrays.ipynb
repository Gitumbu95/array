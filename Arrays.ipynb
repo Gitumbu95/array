{
  "nbformat": 4,
  "nbformat_minor": 0,
  "metadata": {
    "colab": {
      "provenance": [],
      "authorship_tag": "ABX9TyNnLPnb6Qc+Tob4FvSE3xD/",
      "include_colab_link": true
    },
    "kernelspec": {
      "name": "python3",
      "display_name": "Python 3"
    },
    "language_info": {
      "name": "python"
    }
  },
  "cells": [
    {
      "cell_type": "markdown",
      "metadata": {
        "id": "view-in-github",
        "colab_type": "text"
      },
      "source": [
        "<a href=\"https://colab.research.google.com/github/Gitumbu95/array/blob/main/Arrays.ipynb\" target=\"_parent\"><img src=\"https://colab.research.google.com/assets/colab-badge.svg\" alt=\"Open In Colab\"/></a>"
      ]
    },
    {
      "cell_type": "markdown",
      "source": [
        "One Dimension Arrays (1-D)"
      ],
      "metadata": {
        "id": "y2x_-cprRXsV"
      }
    },
    {
      "cell_type": "code",
      "execution_count": 10,
      "metadata": {
        "colab": {
          "base_uri": "https://localhost:8080/"
        },
        "id": "Fe_uYmXmLmYc",
        "outputId": "f6f9ae2f-5a42-4d40-f6af-8f4a0c6f274f"
      },
      "outputs": [
        {
          "output_type": "stream",
          "name": "stdout",
          "text": [
            "[0 1 2 3 4 5 6 7 8] <class 'numpy.ndarray'>\n",
            "[2 3 4 5 6 7 8 9] <class 'numpy.ndarray'>\n",
            "[1 3 5 7 9] <class 'numpy.ndarray'>\n",
            "[-1.   1.5  4.   6.5  9.  11.5] <class 'numpy.ndarray'>\n"
          ]
        }
      ],
      "source": [
        "#packages\n",
        "import numpy as np\n",
        "\n",
        "#Arrays- stores values of the same type\n",
        "#np.arange(stop)\n",
        "arr1 = np.arange(9) #9 reps the stop value\n",
        "print(arr1, type(arr1))\n",
        "\n",
        "#np.arange(start, stop)\n",
        "arr2= np.arange(2, 10) #2- start value, 10-stop value\n",
        "print(arr2, type(arr2))\n",
        "\n",
        "#np.arange(start, stop, step)\n",
        "arr3= np.arange(1, 10, 2) #odd values\n",
        "print(arr3, type(arr3))\n",
        "\n",
        "arr4= np.arange(-1, 11.7, 2.5) #floating point step\n",
        "print(arr4, type(arr4))"
      ]
    },
    {
      "cell_type": "code",
      "source": [
        "#arrays from the lists\n",
        "from_list = np.array([1,4,7, 0])\n",
        "print(from_list)\n",
        "print(type(from_list[1])) #checking the data type of an element.\n",
        "\n",
        "from_list1 = np.array([1,4,7, 0], dtype=np.int8) #assinging datatype to the array for memory efficiency\n",
        "print(type(from_list1[2]))\n",
        "print(\"Shape:\", from_list1.shape)"
      ],
      "metadata": {
        "colab": {
          "base_uri": "https://localhost:8080/"
        },
        "id": "lEG-6RYWPMFM",
        "outputId": "67ad7d45-647e-4c32-d7ad-ba2b75b02426"
      },
      "execution_count": 31,
      "outputs": [
        {
          "output_type": "stream",
          "name": "stdout",
          "text": [
            "[1 4 7 0]\n",
            "<class 'numpy.int64'>\n",
            "<class 'numpy.int8'>\n",
            "Shape: (4,)\n"
          ]
        }
      ]
    },
    {
      "cell_type": "markdown",
      "source": [
        "Two Dimensional Arrays (2-D)"
      ],
      "metadata": {
        "id": "bURsDtjFReFe"
      }
    },
    {
      "cell_type": "code",
      "source": [
        "arr= np.array([[1,2,3,],[5,6,7]], dtype=np.int8) #list\n",
        "print(arr, type(arr))\n",
        "\n",
        "arr2= np.array((np.arange(0,8,2), np.arange(1,8,2)), dtype=np.int8)\n",
        "print(arr2, type(arr2))\n",
        "print(\"Shape:\", arr2.shape)\n",
        "\n",
        "#reshaping array\n",
        "n_arr2= arr2.reshape(4,2)\n",
        "print(n_arr2, n_arr2.shape)"
      ],
      "metadata": {
        "colab": {
          "base_uri": "https://localhost:8080/"
        },
        "id": "5FAOEyvERtTs",
        "outputId": "5e536a03-ef30-4d65-9b65-806d72a1e290"
      },
      "execution_count": 35,
      "outputs": [
        {
          "output_type": "stream",
          "name": "stdout",
          "text": [
            "[[1 2 3]\n",
            " [5 6 7]] <class 'numpy.ndarray'>\n",
            "[[0 2 4 6]\n",
            " [1 3 5 7]] <class 'numpy.ndarray'>\n",
            "Shape: (2, 4)\n",
            "[[0 2]\n",
            " [4 6]\n",
            " [1 3]\n",
            " [5 7]] (4, 2)\n"
          ]
        }
      ]
    },
    {
      "cell_type": "code",
      "source": [
        "#empty arrays\n",
        "zeros= np.zeros((3,3))\n",
        "print(zeros)\n",
        "print(zeros.shape)\n",
        "\n",
        "ones= np.ones((2,2))\n",
        "print(ones)\n",
        "print(ones.shape)\n",
        "\n",
        "random= np.empty((1,3,4)) #retuns random values\n",
        "print(random)\n",
        "print(random.shape)\n"
      ],
      "metadata": {
        "colab": {
          "base_uri": "https://localhost:8080/"
        },
        "id": "L2gErMw5XVPd",
        "outputId": "1d79cb36-a029-49c2-d2c8-fcf2069ad1cb"
      },
      "execution_count": 47,
      "outputs": [
        {
          "output_type": "stream",
          "name": "stdout",
          "text": [
            "[[0. 0. 0.]\n",
            " [0. 0. 0.]\n",
            " [0. 0. 0.]]\n",
            "(3, 3)\n",
            "[[1. 1.]\n",
            " [1. 1.]]\n",
            "(2, 2)\n",
            "[[[5.06350005e-310 0.00000000e+000 0.00000000e+000 0.00000000e+000]\n",
            "  [0.00000000e+000 0.00000000e+000 0.00000000e+000 0.00000000e+000]\n",
            "  [0.00000000e+000 0.00000000e+000 0.00000000e+000 0.00000000e+000]]]\n",
            "(1, 3, 4)\n",
            "[[0. 1. 0. 0. 0.]\n",
            " [0. 0. 1. 0. 0.]\n",
            " [0. 0. 0. 1. 0.]\n",
            " [0. 0. 0. 0. 1.]\n",
            " [0. 0. 0. 0. 0.]]\n"
          ]
        }
      ]
    },
    {
      "cell_type": "code",
      "source": [
        "#diagonal matrix\n",
        "eye = np.eye(5, k=1)\n",
        "eye[eye == 0] = 3 #filtering and replacing\n",
        "eye[eye <= 1] =4\n",
        "\n",
        "#filtering rows and columns\n",
        "eye[0:2]= 5 #rows\n",
        "eye[:, 2] = 7 #columns\n",
        "eye[:, -1] = 9 #columns\n",
        "print(eye)"
      ],
      "metadata": {
        "colab": {
          "base_uri": "https://localhost:8080/"
        },
        "id": "fWtRq2fGZhAs",
        "outputId": "1c33e18f-eb70-4b32-fecd-c33cc7df80f4"
      },
      "execution_count": 55,
      "outputs": [
        {
          "output_type": "stream",
          "name": "stdout",
          "text": [
            "[[5. 5. 7. 5. 9.]\n",
            " [5. 5. 7. 5. 9.]\n",
            " [3. 3. 7. 4. 9.]\n",
            " [3. 3. 7. 3. 9.]\n",
            " [3. 3. 7. 3. 9.]]\n"
          ]
        }
      ]
    },
    {
      "cell_type": "markdown",
      "source": [
        "Sorting Arrays"
      ],
      "metadata": {
        "id": "-SDQ5Xo5bITU"
      }
    },
    {
      "cell_type": "code",
      "source": [
        "#default sort (kind= quicksort); heapsort\n",
        "#sorting by rows\n",
        "print(eye, \"\\n\")\n",
        "sort_eye=np.sort(eye)\n",
        "print(sort_eye, \"\\n\")\n",
        "\n",
        "#sorting by columns\n",
        "sortcol = np.sort(eye, axis=0, kind=\"mergesort\")\n",
        "print(sortcol)"
      ],
      "metadata": {
        "colab": {
          "base_uri": "https://localhost:8080/"
        },
        "id": "uEv2lbbdbNid",
        "outputId": "8877a1fe-8799-4f3f-dd8d-06f46c1c0734"
      },
      "execution_count": 60,
      "outputs": [
        {
          "output_type": "stream",
          "name": "stdout",
          "text": [
            "[[5. 5. 7. 5. 9.]\n",
            " [5. 5. 7. 5. 9.]\n",
            " [3. 3. 7. 4. 9.]\n",
            " [3. 3. 7. 3. 9.]\n",
            " [3. 3. 7. 3. 9.]] \n",
            "\n",
            "[[5. 5. 5. 7. 9.]\n",
            " [5. 5. 5. 7. 9.]\n",
            " [3. 3. 4. 7. 9.]\n",
            " [3. 3. 3. 7. 9.]\n",
            " [3. 3. 3. 7. 9.]] \n",
            "\n",
            "[[3. 3. 7. 3. 9.]\n",
            " [3. 3. 7. 3. 9.]\n",
            " [3. 3. 7. 4. 9.]\n",
            " [5. 5. 7. 5. 9.]\n",
            " [5. 5. 7. 5. 9.]]\n"
          ]
        }
      ]
    },
    {
      "cell_type": "markdown",
      "source": [
        "Copying Array"
      ],
      "metadata": {
        "id": "sTfKy80SVxXK"
      }
    },
    {
      "cell_type": "code",
      "source": [
        "\n",
        "#making copys of arrays\n",
        "#view method (modifies the original array)\n",
        "arr_view= sortcol.view()\n",
        "arr_view[1:3] = 8\n",
        "print(arr_view , \"\\n\")\n",
        "\n",
        "print(sortcol, \"\\n\")\n",
        "#copy method- doesn't alter with the original array\n",
        "arr_copy =sortcol.copy()\n",
        "arr_copy[3:-1] = 2\n",
        "print(arr_copy)\n",
        "\n",
        "\n"
      ],
      "metadata": {
        "colab": {
          "base_uri": "https://localhost:8080/"
        },
        "id": "WMZCq34xdBwG",
        "outputId": "8dd2d9ef-1962-4098-c23d-7cf9016a9056"
      },
      "execution_count": 70,
      "outputs": [
        {
          "output_type": "stream",
          "name": "stdout",
          "text": [
            "[[3. 3. 7. 3. 9.]\n",
            " [8. 8. 8. 8. 8.]\n",
            " [8. 8. 8. 8. 8.]\n",
            " [5. 5. 7. 5. 9.]\n",
            " [5. 5. 7. 5. 9.]] \n",
            "\n",
            "[[3. 3. 7. 3. 9.]\n",
            " [8. 8. 8. 8. 8.]\n",
            " [8. 8. 8. 8. 8.]\n",
            " [5. 5. 7. 5. 9.]\n",
            " [5. 5. 7. 5. 9.]] \n",
            "\n",
            "[[3. 3. 7. 3. 9.]\n",
            " [8. 8. 8. 8. 8.]\n",
            " [8. 8. 8. 8. 8.]\n",
            " [2. 2. 2. 2. 2.]\n",
            " [5. 5. 7. 5. 9.]]\n"
          ]
        }
      ]
    },
    {
      "cell_type": "markdown",
      "source": [
        "Array Operations\n"
      ],
      "metadata": {
        "id": "f1pBVuW9rsio"
      }
    },
    {
      "cell_type": "code",
      "source": [
        "a = np.ones((3,3), dtype=np.int8)\n",
        "a[2] = 2\n",
        "a[1].fill(3)\n",
        "a[0] *= 4 #/= += -=\n",
        "print(a,\"\\n\", a.dtype)\n",
        "\n",
        "\n",
        "b= np.arange(0,9, dtype = np.int8).reshape(3,3)\n",
        "print(b, \"\\n\", b.dtype)\n"
      ],
      "metadata": {
        "colab": {
          "base_uri": "https://localhost:8080/"
        },
        "id": "n4A2uKjNtbBv",
        "outputId": "1b781612-a357-4f98-92a4-53f3b0ee115d"
      },
      "execution_count": 101,
      "outputs": [
        {
          "output_type": "stream",
          "name": "stdout",
          "text": [
            "[[4 4 4]\n",
            " [3 3 3]\n",
            " [2 2 2]] \n",
            " int8\n",
            "[[0 1 2]\n",
            " [3 4 5]\n",
            " [6 7 8]] \n",
            " int8\n"
          ]
        }
      ]
    },
    {
      "cell_type": "markdown",
      "source": [
        "Arithmetic Operations"
      ],
      "metadata": {
        "id": "67scVTDF0gg5"
      }
    },
    {
      "cell_type": "code",
      "source": [
        "#summation\n",
        "sum_a = a.sum() #entire array\n",
        "sum_col= b.sum(axis = 0) #sum per column\n",
        "sum_row = b.sum(axis =1) #sum per row\n",
        "print(sum_a)\n",
        "print(sum_col)\n",
        "print(sum_row)"
      ],
      "metadata": {
        "colab": {
          "base_uri": "https://localhost:8080/"
        },
        "id": "4OSYRjI1uKb3",
        "outputId": "131cdca3-ad25-49c2-c661-98c5caebfb16"
      },
      "execution_count": 103,
      "outputs": [
        {
          "output_type": "stream",
          "name": "stdout",
          "text": [
            "27\n",
            "[ 9 12 15]\n",
            "[ 3 12 21]\n"
          ]
        }
      ]
    },
    {
      "cell_type": "code",
      "source": [
        "#Product/ multiplicataion\n",
        "prod_array = a.prod() #all elements of the array\n",
        "prod_col = b.prod(axis=0) #column elements\n",
        "prod_row = a.prod(axis=1) #row elements\n",
        "print(prod_array)\n",
        "print(prod_col)\n",
        "print(prod_row)\n",
        "\n"
      ],
      "metadata": {
        "colab": {
          "base_uri": "https://localhost:8080/"
        },
        "id": "yLptC2vC3dFi",
        "outputId": "05f300d1-06ec-4ac7-e33b-77ac795191c4"
      },
      "execution_count": 110,
      "outputs": [
        {
          "output_type": "stream",
          "name": "stdout",
          "text": [
            "13824\n",
            "[ 0 28 80]\n",
            "[64 27  8]\n"
          ]
        }
      ]
    },
    {
      "cell_type": "code",
      "source": [
        "#mean of an array\n",
        "average_a = a.mean()\n",
        "print(average_a)\n",
        "\n",
        "#max and min\n",
        "mina= b.min()\n",
        "maxa = b.max()\n",
        "print(\"Min:\", mina, \"Max:\", maxa)\n",
        "\n",
        "#min and max by index\n",
        "minb =a.argmin()\n",
        "maxb =a.argmax()\n",
        "print(minb, maxb)\n",
        "\n",
        "#peak-to-peak\n",
        "peak = a.ptp() #returns max - min\n",
        "print(peak)"
      ],
      "metadata": {
        "colab": {
          "base_uri": "https://localhost:8080/"
        },
        "id": "5RawJBuf428J",
        "outputId": "a01b9d05-cc95-41b2-a82f-c7e8024caae4"
      },
      "execution_count": 121,
      "outputs": [
        {
          "output_type": "stream",
          "name": "stdout",
          "text": [
            "3.0\n",
            "Min: 0 Max: 8\n",
            "6 0\n",
            "2\n"
          ]
        }
      ]
    },
    {
      "cell_type": "code",
      "source": [
        "#flatten array(convert to 1D array)\n",
        "flat = a.reshape(a.size)\n",
        "print(flat)\n",
        "flat_b= b.flatten() #makes copy of original array\n",
        "print(flat_b)\n",
        "flat_a = a.ravel() #creates a view of array ie alters the original array\n",
        "print(flat_a)\n",
        "\n",
        "#repeat arrays /value\n",
        "rep = np.repeat(10, 3) # values\n",
        "print(rep)\n",
        "rep_ar = np.repeat(b, 2, axis= 1)\n",
        "print(rep_ar)\n",
        "\n",
        "#unique\n",
        "uni =np.unique(rep_ar)\n",
        "print(uni)\n",
        "\n",
        "#fetching the major diagonal values of the array\n",
        "diag = np.diagonal(b, offset= -1)\n",
        "print(diag)"
      ],
      "metadata": {
        "colab": {
          "base_uri": "https://localhost:8080/"
        },
        "id": "Nm9Qr4t8Usdw",
        "outputId": "96efc3f3-a23f-49a8-88b2-e97e9b34bd78"
      },
      "execution_count": 133,
      "outputs": [
        {
          "output_type": "stream",
          "name": "stdout",
          "text": [
            "[4 4 4 3 3 3 2 2 2]\n",
            "[0 1 2 3 4 5 6 7 8]\n",
            "[4 4 4 3 3 3 2 2 2]\n",
            "[10 10 10]\n",
            "[[0 0 1 1 2 2]\n",
            " [3 3 4 4 5 5]\n",
            " [6 6 7 7 8 8]]\n",
            "[0 1 2 3 4 5 6 7 8]\n",
            "[3 7]\n"
          ]
        }
      ]
    },
    {
      "cell_type": "code",
      "source": [
        "#conversion and storage\n",
        "#array to list\n",
        "con= b.tolist()\n",
        "print(con, type(con))\n",
        "\n",
        "#array to file\n",
        "file= a.tofile( \"array_file.txt\",sep=\",\")\n",
        "print(file)"
      ],
      "metadata": {
        "colab": {
          "base_uri": "https://localhost:8080/"
        },
        "id": "4SXHcfT9YFiK",
        "outputId": "619768c2-4752-4f4c-c89f-9e8df25f084e"
      },
      "execution_count": 137,
      "outputs": [
        {
          "output_type": "stream",
          "name": "stdout",
          "text": [
            "[[0, 1, 2], [3, 4, 5], [6, 7, 8]] <class 'list'>\n",
            "None\n"
          ]
        }
      ]
    },
    {
      "cell_type": "code",
      "source": [
        "#transposition (same concept as transposing a matrix)\n",
        "trans = np.swapaxes(b, 0, 1)\n",
        "print(trans)\n",
        "\n",
        "transpose = b.transpose(1, 0)\n",
        "print(transpose)\n",
        "\n",
        "T=b.T\n",
        "print(T)"
      ],
      "metadata": {
        "colab": {
          "base_uri": "https://localhost:8080/"
        },
        "id": "atAffwtZaoax",
        "outputId": "9207b5be-e402-42f3-91e9-d87a8e13e88f"
      },
      "execution_count": 142,
      "outputs": [
        {
          "output_type": "stream",
          "name": "stdout",
          "text": [
            "[[0 3 6]\n",
            " [1 4 7]\n",
            " [2 5 8]]\n",
            "[[0 3 6]\n",
            " [1 4 7]\n",
            " [2 5 8]]\n",
            "[[0 3 6]\n",
            " [1 4 7]\n",
            " [2 5 8]]\n"
          ]
        }
      ]
    },
    {
      "cell_type": "markdown",
      "source": [
        "Operations on matrices"
      ],
      "metadata": {
        "id": "db7NtV2scVPh"
      }
    },
    {
      "cell_type": "code",
      "source": [
        "#summation\n",
        "sum = a + b\n",
        "print(sum)\n",
        "\n",
        "#substraction\n",
        "sub = a - b\n",
        "print(sub)\n",
        "\n",
        "#modulo\n",
        "mod = b % a\n",
        "print(mod)\n",
        "\n",
        "#float division rounds the fraction to the nearest whole numbers\n",
        "flo = b // a #retuns integers\n",
        "print(flo)\n",
        "\n",
        "npflo = np.floor(b/a) #returns whole numbers but of type float\n",
        "print(npflo)\n",
        "\n",
        "#multiplication #element wise multiplication\n",
        "prod= a * b\n",
        "print(prod)\n",
        "\n",
        "#matrix multiplication #matrix wise multiplication\n",
        "mat_mul =np.matmul(a,b)\n",
        "print(mat_mul)\n",
        "\n",
        "mat_dot = a.dot(b)\n",
        "print(mat_dot)\n",
        "\n",
        "at = a @ b\n",
        "print(at)\n"
      ],
      "metadata": {
        "colab": {
          "base_uri": "https://localhost:8080/"
        },
        "id": "lu1nQPYhbcUg",
        "outputId": "a152c852-029f-4e32-eabb-a84cb1d1b722"
      },
      "execution_count": 158,
      "outputs": [
        {
          "output_type": "stream",
          "name": "stdout",
          "text": [
            "[[ 4  5  6]\n",
            " [ 6  7  8]\n",
            " [ 8  9 10]]\n",
            "[[ 4  3  2]\n",
            " [ 0 -1 -2]\n",
            " [-4 -5 -6]]\n",
            "[[0 1 2]\n",
            " [0 1 2]\n",
            " [0 1 0]]\n",
            "[[0 0 0]\n",
            " [1 1 1]\n",
            " [3 3 4]]\n",
            "[[0. 0. 0.]\n",
            " [1. 1. 1.]\n",
            " [3. 3. 4.]]\n",
            "[[ 0  4  8]\n",
            " [ 9 12 15]\n",
            " [12 14 16]]\n",
            "[[36 48 60]\n",
            " [27 36 45]\n",
            " [18 24 30]]\n",
            "[[36 48 60]\n",
            " [27 36 45]\n",
            " [18 24 30]]\n",
            "[[36 48 60]\n",
            " [27 36 45]\n",
            " [18 24 30]]\n"
          ]
        }
      ]
    }
  ]
}